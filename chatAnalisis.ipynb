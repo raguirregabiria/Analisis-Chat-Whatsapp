{
 "metadata": {
  "language_info": {
   "codemirror_mode": {
    "name": "ipython",
    "version": 3
   },
   "file_extension": ".py",
   "mimetype": "text/x-python",
   "name": "python",
   "nbconvert_exporter": "python",
   "pygments_lexer": "ipython3",
   "version": "3.8.5-final"
  },
  "orig_nbformat": 2,
  "kernelspec": {
   "name": "python3",
   "display_name": "Python 3.8.5 64-bit (conda)",
   "metadata": {
    "interpreter": {
     "hash": "ecf5722fdaf1897a315d257d89d94520bfcaa453217d5becf09b39e73618b0de"
    }
   }
  }
 },
 "nbformat": 4,
 "nbformat_minor": 2,
 "cells": [
  {
   "source": [
    "## Código basado en el siguiente artículo:\n",
    "\n",
    "https://medium.com/towards-artificial-intelligence/whatsapp-group-chat-analysis-using-python-and-plotly-89bade2bc382"
   ],
   "cell_type": "markdown",
   "metadata": {}
  },
  {
   "cell_type": "code",
   "execution_count": null,
   "metadata": {},
   "outputs": [],
   "source": [
    "# Importamos las librerías que vamos a usar\n",
    "import re, pandas as pd, datetime, numpy as np, emoji, plotly.express as px\n",
    "from collections import Counter"
   ]
  },
  {
   "source": [
    "### Generamos un DataFrame de pandas a través del chat exportado:"
   ],
   "cell_type": "markdown",
   "metadata": {}
  },
  {
   "cell_type": "code",
   "execution_count": null,
   "metadata": {},
   "outputs": [],
   "source": [
    "def getDfFromChat(chatFile):\n",
    "    data = extractData(chatFile)\n",
    "    return pd.DataFrame(data, columns=['Date', 'Time', 'Author', 'Message'])\n",
    "def extractData(chatFile):\n",
    "    data = []\n",
    "    for msg in open(chatFile, encoding=\"utf8\"):\n",
    "        d = getDataFromLine(msg)\n",
    "        if len(d) > 0:\n",
    "            if len(d[0]) == 4:\n",
    "                data.append(d[0])\n",
    "    return data\n",
    "\n",
    "def getDataFromLine(line):\n",
    "    regexDate = \"^([0-9]+\\/[0-9]+\\/[0-9][0-9]) \"\n",
    "    regexHour = \"([0-9]+:[0-9][0-9]) \"\n",
    "    regexAuthor = \"- (.*?)\\: \"\n",
    "    regexMsg = \"(.*)\"\n",
    "    regexAll = regexDate + regexHour + regexAuthor + regexMsg \n",
    "    return re.findall(regexAll, line)"
   ]
  },
  {
   "cell_type": "code",
   "execution_count": null,
   "metadata": {},
   "outputs": [],
   "source": [
    "df = getDfFromChat(\"Chat.txt\")"
   ]
  },
  {
   "cell_type": "code",
   "execution_count": null,
   "metadata": {},
   "outputs": [],
   "source": [
    "df"
   ]
  },
  {
   "source": [
    "### Dividimos el DataFrame en dos: \n",
    "* Mensajes multimedia\n",
    "* Mensajes de texto "
   ],
   "cell_type": "markdown",
   "metadata": {}
  },
  {
   "cell_type": "code",
   "execution_count": null,
   "metadata": {},
   "outputs": [],
   "source": [
    "df_Multimedia = df[df['Message'] == '<Multimedia omitido>']\n",
    "dfMensajes = df.drop(df_Multimedia.index)"
   ]
  },
  {
   "source": [
    "### Enriquecemos el chat con:\n",
    "\n",
    "* Emojis usados\n",
    "* URLs compartidas\n",
    "* Longitud de mensajes\n",
    "* Numero de palabras"
   ],
   "cell_type": "markdown",
   "metadata": {}
  },
  {
   "cell_type": "code",
   "execution_count": null,
   "metadata": {},
   "outputs": [],
   "source": [
    "def enriquecerChat(dfMensajes, df_Multimedia):\n",
    "    # Emojis\n",
    "    dfMensajes[\"emoji\"] = dfMensajes[\"Message\"].apply(split_count)\n",
    "    # URLs\n",
    "    URLPATTERN = r'(https?://\\S+)'\n",
    "    dfMensajes['urlcount'] = dfMensajes.Message.apply(lambda x: re.findall(URLPATTERN, x)).str.len()\n",
    "    # Longitud de los mensajes\n",
    "    dfMensajes['Letter_Count'] = dfMensajes['Message'].apply(lambda s : len(s))\n",
    "    # Numero de palabres en un mensaje\n",
    "    dfMensajes['Word_Count'] = dfMensajes['Message'].apply(lambda s : len(s.split(' ')))\n",
    "def split_count(s):\n",
    "    return ''.join(c for c in s if c in emoji.UNICODE_EMOJI)\n"
   ]
  },
  {
   "cell_type": "code",
   "execution_count": null,
   "metadata": {},
   "outputs": [],
   "source": [
    "enriquecerChat(dfMensajes, df_Multimedia)"
   ]
  },
  {
   "cell_type": "code",
   "execution_count": null,
   "metadata": {},
   "outputs": [],
   "source": [
    "dfMensajes"
   ]
  },
  {
   "source": [
    "### Estadísticas generales"
   ],
   "cell_type": "markdown",
   "metadata": {}
  },
  {
   "cell_type": "code",
   "execution_count": null,
   "metadata": {},
   "outputs": [],
   "source": [
    "l = dfMensajes.Author.unique()\n",
    "\n",
    "for i in range(len(l)):\n",
    "  req_df= dfMensajes[dfMensajes[\"Author\"] == l[i]]\n",
    "  print(f'Estadisticas de {l[i]}:')\n",
    "  print()\n",
    "  print('\\tMensajes enviados:', req_df.shape[0])\n",
    "  words_per_message = (np.sum(req_df['Word_Count']))/req_df.shape[0]\n",
    "  print('\\tPalabras por mensaje:', words_per_message)\n",
    "  media = df_Multimedia[df_Multimedia['Author'] == l[i]].shape[0]\n",
    "  print('\\tMensajes multimedia enviados:', media)\n",
    "  emojis = sum(req_df['emoji'].str.len())\n",
    "  print('\\tEmojis enviados:', emojis)\n",
    "  links = sum(req_df[\"urlcount\"])   \n",
    "  print('\\tLinks enviados:', links)\n",
    "  print()"
   ]
  },
  {
   "source": [
    "# Estadísticas de Emojis"
   ],
   "cell_type": "markdown",
   "metadata": {}
  },
  {
   "source": [
    "### Tabla de emojis usados"
   ],
   "cell_type": "markdown",
   "metadata": {}
  },
  {
   "cell_type": "code",
   "execution_count": null,
   "metadata": {},
   "outputs": [],
   "source": [
    "\n",
    "total_emojis_list = list([a for b in dfMensajes.emoji for a in b])\n",
    "emoji_dict = dict(Counter(total_emojis_list))\n",
    "emoji_dict = sorted(emoji_dict.items(), key=lambda x: x[1], reverse=True)\n",
    "\n",
    "emoji_df = pd.DataFrame(emoji_dict, columns=['emoji', 'count'])\n"
   ]
  },
  {
   "cell_type": "code",
   "execution_count": null,
   "metadata": {},
   "outputs": [],
   "source": [
    "emoji_df"
   ]
  },
  {
   "source": [
    "## Graficos circulares"
   ],
   "cell_type": "markdown",
   "metadata": {}
  },
  {
   "source": [
    "### Total"
   ],
   "cell_type": "markdown",
   "metadata": {}
  },
  {
   "source": [
    "\n",
    "fig = px.pie(emoji_df, values='count', names='emoji',\n",
    "             title='Emoji Distribution')\n",
    "fig.update_traces(textposition='inside', textinfo='percent+label')\n",
    "fig.show()"
   ],
   "cell_type": "code",
   "metadata": {},
   "execution_count": null,
   "outputs": []
  },
  {
   "source": [
    "### Por autor"
   ],
   "cell_type": "markdown",
   "metadata": {}
  },
  {
   "cell_type": "code",
   "execution_count": null,
   "metadata": {},
   "outputs": [],
   "source": [
    "l = dfMensajes.Author.unique()\n",
    "for i in range(len(l)):\n",
    "  dummy_df = dfMensajes[dfMensajes['Author'] == l[i]]\n",
    "  total_emojis_list = list([a for b in dummy_df.emoji for a in b])\n",
    "  emoji_dict = dict(Counter(total_emojis_list))\n",
    "  emoji_dict = sorted(emoji_dict.items(), key=lambda x: x[1], reverse=True)\n",
    "  print('Emoji Distribution for', l[i])\n",
    "  author_emoji_df = pd.DataFrame(emoji_dict, columns=['emoji', 'count'])\n",
    "  fig = px.pie(author_emoji_df, values='count', names='emoji')\n",
    "  fig.update_traces(textposition='inside', textinfo='percent+label')\n",
    "  fig.show()"
   ]
  },
  {
   "source": [
    "## Total de palabras"
   ],
   "cell_type": "markdown",
   "metadata": {}
  },
  {
   "cell_type": "code",
   "execution_count": null,
   "metadata": {},
   "outputs": [],
   "source": [
    "text = \" \".join(review for review in dfMensajes.Message)\n",
    "print (\"There are {} words in all the messages.\".format(len(text)))"
   ]
  },
  {
   "source": [
    "## Palabras más usadas"
   ],
   "cell_type": "markdown",
   "metadata": {}
  },
  {
   "source": [
    "Para el siguiente necesitaremos descargar el paquete de Stop-words (Palabras vacías) en español. Estas son artículos, pronombres, preposiciones que no nos interesa graficar."
   ],
   "cell_type": "markdown",
   "metadata": {}
  },
  {
   "cell_type": "code",
   "execution_count": null,
   "metadata": {},
   "outputs": [],
   "source": [
    "from matplotlib import pyplot as plt\n",
    "from wordcloud import WordCloud,STOPWORDS\n",
    "import nltk\n",
    "nltk.download('stopwords')\n",
    "from nltk.corpus import stopwords"
   ]
  },
  {
   "source": [
    "### Usamos el español, a su vez podemos agregar otras palabras que no queramos visualizar"
   ],
   "cell_type": "markdown",
   "metadata": {}
  },
  {
   "cell_type": "code",
   "execution_count": null,
   "metadata": {},
   "outputs": [],
   "source": [
    "stopwords_spanish = set(stopwords.words('spanish'))\n",
    "# stopwords = set(stopwords.words('spanish'))\n",
    "\n",
    "stopwords_spanish.update([\"jajajaja\", \"jajaja\"])"
   ]
  },
  {
   "cell_type": "code",
   "execution_count": null,
   "metadata": {},
   "outputs": [],
   "source": [
    "text = \" \".join(review for review in dfMensajes.Message)\n",
    "\n",
    "wordcloud = WordCloud(stopwords=stopwords_spanish, background_color=\"white\").generate(text)\n",
    "# Display the generated image:\n",
    "# the matplotlib way:\n",
    "\n",
    "plt.figure( figsize=(10,5))\n",
    "plt.imshow(wordcloud, interpolation='bilinear')\n",
    "plt.axis(\"off\")\n",
    "plt.show()"
   ]
  },
  {
   "source": [
    "## Grafico mensajes-día a lo largo del tiempo"
   ],
   "cell_type": "markdown",
   "metadata": {}
  },
  {
   "source": [
    "Cada columna es un mensaje, añadiendo el valor de la siguiente celda al agruparlas por fecha nos dará el número de mensajes por día "
   ],
   "cell_type": "markdown",
   "metadata": {}
  },
  {
   "cell_type": "code",
   "execution_count": null,
   "metadata": {},
   "outputs": [],
   "source": [
    "dfMensajes[\"MessageCount\"] = 1"
   ]
  },
  {
   "cell_type": "code",
   "execution_count": null,
   "metadata": {},
   "outputs": [],
   "source": [
    "# Agrupamos por fecha, Esto convierte a la fecha en el índice.\n",
    "date_df = dfMensajes.groupby(\"Date\").sum()\n",
    "# Hacemos que la fecha pase a ser otra columna\n",
    "date_df.reset_index(inplace=True)\n",
    "# Transformamos la columna fecha para que pandas la entienda como tal y la podamos ordenar\n",
    "date_df['Date'] =pd.to_datetime(date_df.Date, format= \"%d/%m/%y\")\n",
    "# Ordenamos por fecha\n",
    "date_df = date_df.sort_values(by='Date')\n",
    "# Reiniciamos el índice. De no hacerlo el grafico uniría los puntos por indice, los cuales no son los mismos que le fecha y saldría un garabato. Al reiniciar el índice se crea una columna Index, la eliminamos.\n",
    "date_df.reset_index().drop([\"index\"], axis=1)\n"
   ]
  },
  {
   "source": [
    "### Graficamos"
   ],
   "cell_type": "markdown",
   "metadata": {}
  },
  {
   "cell_type": "code",
   "execution_count": null,
   "metadata": {},
   "outputs": [],
   "source": [
    "fig = px.line(date_df, x=\"Date\", y=\"MessageCount\", title='Número de mensajes a lo largo del tiempo')\n",
    "fig.update_xaxes(nticks=20)\n",
    "fig.show()"
   ]
  },
  {
   "source": [
    "### Días con más mensajes"
   ],
   "cell_type": "markdown",
   "metadata": {}
  },
  {
   "cell_type": "code",
   "execution_count": null,
   "metadata": {},
   "outputs": [],
   "source": [
    "dfMensajes['Date'].value_counts().head(10).plot.barh()\n",
    "plt.xlabel('Número de mensajes')\n",
    "plt.ylabel('Fecha')"
   ]
  },
  {
   "source": [
    "## Número de mensajes repartidos por días"
   ],
   "cell_type": "markdown",
   "metadata": {}
  },
  {
   "cell_type": "code",
   "execution_count": null,
   "metadata": {},
   "outputs": [],
   "source": [
    "dfMensajes[\"Date\"] = pd.to_datetime(dfMensajes.Date, format= \"%d/%m/%y\")\n",
    "\n",
    "def dayofweek(i):\n",
    "  l = [\"Monday\", \"Tuesday\", \"Wednesday\", \"Thursday\", \"Friday\", \"Saturday\", \"Sunday\"]\n",
    "  return l[i]\n",
    "day_df=pd.DataFrame(dfMensajes[\"Message\"])\n",
    "day_df['day_of_date'] = dfMensajes['Date'].dt.weekday\n",
    "day_df['day_of_date'] = day_df[\"day_of_date\"].apply(dayofweek)\n",
    "day_df[\"messagecount\"] = 1\n",
    "day = day_df.groupby(\"day_of_date\").sum()\n",
    "day.reset_index(inplace=True)\n",
    "\n",
    "fig = px.line_polar(day, r='messagecount', theta='day_of_date', line_close=True)\n",
    "fig.update_traces(fill='toself')\n",
    "rangoMensajes = day[\"messagecount\"].sort_values(ascending=False).head(1).iloc[0] + 100\n",
    "fig.update_layout(\n",
    "  polar=dict(\n",
    "    radialaxis=dict(\n",
    "      visible=True,      \n",
    "      range=[0,rangoMensajes]\n",
    "    )),\n",
    "  showlegend=False\n",
    ")\n",
    "fig.show()"
   ]
  },
  {
   "source": [
    "### Momentos del día con más mensajes"
   ],
   "cell_type": "markdown",
   "metadata": {}
  },
  {
   "cell_type": "code",
   "execution_count": null,
   "metadata": {},
   "outputs": [],
   "source": [
    "dfMensajes['Time'].value_counts().head(10).plot.barh()\n",
    "plt.xlabel('Number of messages')\n",
    "plt.ylabel('Time')"
   ]
  }
 ]
}